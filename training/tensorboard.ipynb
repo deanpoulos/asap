{
 "cells": [
  {
   "cell_type": "code",
   "source": [
    "%reload_ext tensorboard\n",
    "%tensorboard --logdir /home/dean/src/asap/training/logs/2024-10-08 --port 6008\n",
    "# http://localhost:6008/?pinnedCards=%5B%7B%22plugin%22%3A%22scalars%22%2C%22tag%22%3A%22custom%2Fteam_attack%22%7D%2C%7B%22plugin%22%3A%22scalars%22%2C%22tag%22%3A%22train%2Fvalue_loss%22%7D%2C%7B%22plugin%22%3A%22scalars%22%2C%22tag%22%3A%22train%2Fpolicy_gradient_loss%22%7D%2C%7B%22plugin%22%3A%22scalars%22%2C%22tag%22%3A%22eval%2Fmean_reward%22%7D%2C%7B%22plugin%22%3A%22scalars%22%2C%22tag%22%3A%22rollout%2Fep_rew_mean%22%7D%2C%7B%22plugin%22%3A%22scalars%22%2C%22tag%22%3A%22episode%2Fmean%22%7D%2C%7B%22plugin%22%3A%22scalars%22%2C%22tag%22%3A%22episode%2Freward%22%7D%2C%7B%22plugin%22%3A%22scalars%22%2C%22tag%22%3A%22episode%2Fstd%22%7D%5D&darkMode=true&smoothing=0.99&runFilter=%5E%28%3F%21.*1728%29.*#timeseries"
   ],
   "metadata": {
    "collapsed": false,
    "ExecuteTime": {
     "end_time": "2024-10-07T15:25:05.453610Z",
     "start_time": "2024-10-07T15:25:04.441413Z"
    }
   },
   "id": "fc6a54aca92ef7a1",
   "outputs": [
    {
     "data": {
      "text/plain": [
       "<IPython.core.display.HTML object>"
      ],
      "text/html": [
       "\n",
       "      <iframe id=\"tensorboard-frame-e0e4b54054143645\" width=\"100%\" height=\"800\" frameborder=\"0\">\n",
       "      </iframe>\n",
       "      <script>\n",
       "        (function() {\n",
       "          const frame = document.getElementById(\"tensorboard-frame-e0e4b54054143645\");\n",
       "          const url = new URL(\"/\", window.location);\n",
       "          const port = 6008;\n",
       "          if (port) {\n",
       "            url.port = port;\n",
       "          }\n",
       "          frame.src = url;\n",
       "        })();\n",
       "      </script>\n",
       "    "
      ]
     },
     "metadata": {},
     "output_type": "display_data"
    }
   ],
   "execution_count": 1
  }
 ],
 "metadata": {
  "kernelspec": {
   "display_name": "Python 3",
   "language": "python",
   "name": "python3"
  },
  "language_info": {
   "codemirror_mode": {
    "name": "ipython",
    "version": 2
   },
   "file_extension": ".py",
   "mimetype": "text/x-python",
   "name": "python",
   "nbconvert_exporter": "python",
   "pygments_lexer": "ipython2",
   "version": "2.7.6"
  }
 },
 "nbformat": 4,
 "nbformat_minor": 5
}
